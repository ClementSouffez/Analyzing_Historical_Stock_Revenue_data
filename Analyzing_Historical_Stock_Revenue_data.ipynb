Stock data extraction and visualization
